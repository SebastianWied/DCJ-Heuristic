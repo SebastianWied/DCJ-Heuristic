{
 "cells": [
  {
   "cell_type": "code",
   "execution_count": 3,
   "metadata": {},
   "outputs": [
    {
     "name": "stdout",
     "output_type": "stream",
     "text": [
      "hello!"
     ]
    }
   ],
   "source": [
    "print(\"hello!\")"
   ]
  },
  {
   "cell_type": "markdown",
   "metadata": {},
   "source": [
    "Goal: To find the distance between two genomes A and B\n",
    "\n",
    "let G be a graph where each vertex has degree one or two.\n",
    "    Degree one is external\n",
    "    Degree two is internal\n",
    "An internal vertex connecting edges p and q is denoted by the unordered set {p, q}.\n",
    "An external vertex incident to edge p is a singleton set {p}\n",
    "\n",
    "This definition shows us that G can be either:\n",
    "    circular - consisting of only internal vertices - CYCLES\n",
    "    linear - internal verties bounded by external vertices - PATHS\n",
    "Even if it has an even number of edges, odd if an odd amount of edges\n",
    "\n",
    "DCJ\n",
    "a. If both u={p,q} and v={r,s} are internal vertices, they are replaced by the two vertices {p,r} {q,s} OR {p,s} {q,r}\n",
    "b. If u = {p,q} is internal and v={r} is external, replaced by {p,r} {q} OR {q,r} {p}\n",
    "c. If both u={p} and v = {r}, these are replaced by {q,r}\n",
    "    Extending this, {q,r} can be replaced by two external vertices {q}{r}\n",
    "\n",
    "Genes\n",
    "Starts with a tail and ends with a head. Tail is at, head is ah. Thus, adjacencies between two genes can be of four diff types:\n",
    "{ah, bt}, {ah, bh}, {at, bt}, {at, bh}\n",
    "An extremity not adjacent to any other genes is called a telomere, represented by singleton set {at} or {ah}\n",
    "A genome is a set of adjacencies and telomeres such that the tail or head of any gene appears in exactly one adjacency or telomere.\n",
    "Given a genome, we reconstruct its chromosomes by representing adjacencies and telomeres as vertices, joining each gene between its tail and head.\n",
    "The connected paths are either circular or linear.\n",
    "Chromosomes are often represented by choosing either an external telomere in a linear chromosome or an arbitrary entry in a circular chromosome and then enumerating labels along the path traced by the gene(only degree one or two degree vertices, so this always produces a set path.)\n",
    "Positive sign indicates read from tail to head and negative is head to tail\n",
    "For linear chromosomes, enumeration ends at the other telomere(the only other external vertex). For circular paths, it ends once a gene appears again in the list.\n",
    "\n",
    "A = {{at}, {ah, ct}, {ch, dh}, {dt}, {bh, et}, {eh, bt}, {ft}, {fh, gt}, {gh}}\n",
    "{at}, {ah, ct}, {ch, dh}, {dt} is one linear path\n",
    "{bh, et}, {eh, bt} is one circular cycle\n",
    "{ft}, {fh, gt}, {gh} is one linear path\n",
    "\n",
    "\n",
    "The problem:\n",
    "Given two genomes A and B with the same genes, what is the shortest way to turn from A to B through DCJ ops?\n",
    "\n",
    "Adjacency graph:\n",
    "A graph of the connections between the two genomes A and B, where the edges are formed by connecting any arbitrary gene at in genome A to its partner at in genome B\n",
    "\n"
   ]
  },
  {
   "cell_type": "markdown",
   "metadata": {},
   "source": []
  },
  {
   "cell_type": "markdown",
   "metadata": {},
   "source": []
  },
  {
   "cell_type": "markdown",
   "metadata": {},
   "source": []
  }
 ],
 "metadata": {
  "kernelspec": {
   "display_name": "Julia 1.10.4",
   "language": "julia",
   "name": "julia-1.10"
  },
  "language_info": {
   "file_extension": ".jl",
   "mimetype": "application/julia",
   "name": "julia",
   "version": "1.10.4"
  }
 },
 "nbformat": 4,
 "nbformat_minor": 2
}
