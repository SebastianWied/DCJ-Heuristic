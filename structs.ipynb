{
 "cells": [
  {
   "cell_type": "markdown",
   "metadata": {},
   "source": [
    "# DCJ Project Rewrite with Megan\n",
    "Algorithm based on information from:\n",
    "- A Unifying View of Genome Rearrangements by Bergeron et al.\n",
    "- Heuristics for Genome Rearrangement Distance With Replicated Genes by Siqueira et al."
   ]
  },
  {
   "cell_type": "code",
   "execution_count": 26,
   "metadata": {},
   "outputs": [],
   "source": [
    "using Parameters"
   ]
  },
  {
   "cell_type": "code",
   "execution_count": 27,
   "metadata": {},
   "outputs": [
    {
     "data": {
      "text/plain": [
       "2"
      ]
     },
     "metadata": {},
     "output_type": "display_data"
    }
   ],
   "source": [
    "LINEAR_PATH = 1\n",
    "CYCLIC_PATH = 2"
   ]
  },
  {
   "cell_type": "code",
   "execution_count": 55,
   "metadata": {},
   "outputs": [
    {
     "ename": "Base.Meta.ParseError",
     "evalue": "ParseError:\n# Error @ /Users/seawied/Master/redone_megan_project/structs.ipynb:100:4\n    end\nend\n#  └ ── Expected `end`",
     "output_type": "error",
     "traceback": [
      "ParseError:\n",
      "# Error @ /Users/seawied/Master/redone_megan_project/structs.ipynb:100:4\n",
      "    end\n",
      "end\n",
      "#  └ ── Expected `end`\n",
      "\n",
      "Stacktrace:\n",
      " [1] top-level scope\n",
      "   @ ~/Master/redone_megan_project/structs.ipynb:100"
     ]
    }
   ],
   "source": [
    "mutable struct DCJ_edge\n",
    "    label::String\n",
    "    tail_connection::Union{DCJ_edge, Nothing}\n",
    "    head_connection::Union{DCJ_edge, Nothing}\n",
    "end\n",
    "\n",
    "function get_edge_count(edge::DCJ_edge)\n",
    "    if edge.tail_connection === nothing || edge.head_connection === nothing\n",
    "        return 1\n",
    "    end\n",
    "    return 2\n",
    "end\n",
    "\n",
    "mutable struct DCJ_graph\n",
    "    # Holds a root edge, of which all other edges are connected. By nature each DCJ_graph object only holds one cycle/path\n",
    "    root_edge::DCJ_edge\n",
    "    type::Int\n",
    "end\n",
    "\n",
    "mutable struct DCJ_genome\n",
    "    # Holds a genome - a collection of either one or several DCJ_graphs. A genome can be either connected in one large path or split into several paths within the genome\n",
    "    graphs::Vector{DCJ_graph}\n",
    "end\n",
    "\n",
    "function display_genome(genome::DCJ_genome)\n",
    "    for graph in genome.graphs\n",
    "        display_dcj_graph(graph)\n",
    "        println(\"-\\n\")\n",
    "    end\n",
    "end\n",
    "\n",
    "function display_dcj_graph(g::DCJ_graph)\n",
    "    # Displays a full DCJ_graph\n",
    "    # First, loop through graph and find first telomere(external node)\n",
    "    # Start displaying from the first telomere found\n",
    "    telo = nothing\n",
    "    root = g.root_edge\n",
    "    trail = root\n",
    "    edges = Set{DCJ_edge}()\n",
    "    if g.type == LINEAR_PATH\n",
    "        println(\"Linear Graph\")\n",
    "    else\n",
    "        println(\"Cyclic Graph\")\n",
    "    end\n",
    "    while trail !== nothing\n",
    "        push!(edges, trail)\n",
    "        head = trail.head_connection\n",
    "        tail = trail.tail_connection\n",
    "        if head in edges\n",
    "            trail = tail\n",
    "        else\n",
    "            trail = head\n",
    "        end\n",
    "        if trail in edges\n",
    "            break\n",
    "        end\n",
    "    end\n",
    "    for edge in edges\n",
    "        if get_edge_count(edge) == 1 # Found telomere\n",
    "            telo = edge\n",
    "            break\n",
    "        end\n",
    "    end\n",
    "    if telo !== nothing\n",
    "        # Displaying a linear path.\n",
    "        # Create a set of seen edges(probably temporary) to make sure we are going the right way\n",
    "        seen = Set{DCJ_edge}()\n",
    "        push!(seen, telo)\n",
    "        print(telo.label)\n",
    "        # Get next connected edge to the initial telomere\n",
    "        trail = telo.tail_connection\n",
    "        if trail === nothing\n",
    "            trail = telo.head_connection\n",
    "        end\n",
    "        while trail !== nothing\n",
    "            print(trail.label)\n",
    "            push!(seen, trail)\n",
    "            trailhead = trail.head_connection\n",
    "            trailtail = trail.tail_connection\n",
    "            if trailhead in seen\n",
    "                trail = trailtail\n",
    "            else\n",
    "                trail = trailhead\n",
    "            end\n",
    "        end\n",
    "    else\n",
    "        # Drawing a cyclic graph. Last character of the printed string connects to first letter of the output\n",
    "        seen = Set{DCJ_edge}()\n",
    "        trail = root\n",
    "        while !(trail in seen)\n",
    "            push!(seen, trail)\n",
    "            print(trail.label)\n",
    "            head = trail.head_connection\n",
    "            tail = trail.tail_connection\n",
    "            trail = head\n",
    "            if head in seen\n",
    "                trail = tail\n",
    "            end\n",
    "        end\n",
    "    end\n",
    "end"
   ]
  },
  {
   "cell_type": "code",
   "execution_count": 29,
   "metadata": {},
   "outputs": [
    {
     "name": "stdout",
     "output_type": "stream",
     "text": [
      "Linear Graph\n",
      "cba"
     ]
    }
   ],
   "source": [
    "edge1 = DCJ_edge(\"a\", nothing, nothing)\n",
    "edge2 = DCJ_edge(\"b\", edge1, nothing)\n",
    "edge1.head_connection = edge2\n",
    "edge3 = DCJ_edge(\"c\", edge2, nothing)\n",
    "edge2.head_connection = edge3\n",
    "graph = DCJ_graph(edge1, LINEAR_PATH)\n",
    "display_dcj_graph(graph)"
   ]
  },
  {
   "cell_type": "code",
   "execution_count": 30,
   "metadata": {},
   "outputs": [
    {
     "data": {
      "text/plain": [
       "convert_string_to_graph (generic function with 1 method)"
      ]
     },
     "metadata": {},
     "output_type": "display_data"
    }
   ],
   "source": [
    "function convert_string_to_graph(input::String, type::Int)\n",
    "    if length(input) < 2\n",
    "        print(\"Too short input string\")\n",
    "    end\n",
    "    root_edge = DCJ_edge(string(input[1]), nothing, nothing)\n",
    "    prev_edge = root_edge\n",
    "    for entry in SubString(input, 2, length(input))\n",
    "        new_edge = DCJ_edge(string(entry), prev_edge, nothing)\n",
    "        prev_edge.head_connection = new_edge\n",
    "        prev_edge = new_edge\n",
    "    end\n",
    "    if type == CYCLIC_PATH\n",
    "        root_edge.tail_connection = prev_edge\n",
    "        prev_edge.head_connection = root_edge\n",
    "    end\n",
    "    return DCJ_graph(root_edge, type)\n",
    "end"
   ]
  },
  {
   "cell_type": "code",
   "execution_count": 31,
   "metadata": {},
   "outputs": [
    {
     "name": "stdout",
     "output_type": "stream",
     "text": [
      "Cyclic Graph\n",
      "abcdefghijklmnop"
     ]
    }
   ],
   "source": [
    "convert_to_graph_test = convert_string_to_graph(\"abcdefghijklmnop\", CYCLIC_PATH)\n",
    "display_dcj_graph(convert_to_graph_test)"
   ]
  },
  {
   "cell_type": "code",
   "execution_count": 61,
   "metadata": {},
   "outputs": [
    {
     "data": {
      "text/plain": [
       "assemble_genome (generic function with 1 method)"
      ]
     },
     "metadata": {},
     "output_type": "display_data"
    }
   ],
   "source": [
    "# More discrete control over graph/genome creation.\n",
    "# This function takes in a string with head and tail connections more clearly typed in.\n",
    "# Format: aT,aHcT,cHdT,dH - This is a complete cycle. T and H are reserved characters for distinguishing the individual units of the string\n",
    "# This allows the creation of an entire genome from one graph.\n",
    "function assemble_genome(input::String)\n",
    "    genome = DCJ_genome(Vector{DCJ_graph}())\n",
    "    current_graph = nothing\n",
    "    sliced = split(input, \",\")\n",
    "    current_label = \"\"\n",
    "\n",
    "    end\n",
    "end"
   ]
  },
  {
   "cell_type": "code",
   "execution_count": 62,
   "metadata": {},
   "outputs": [
    {
     "name": "stdout",
     "output_type": "stream",
     "text": [
      "aT\n",
      "aHcT\n",
      "cHdT\n",
      "dH\n"
     ]
    }
   ],
   "source": [
    "test = \"aT,aHcT,cHdT,dH\"\n",
    "assemble_genome(test)"
   ]
  },
  {
   "cell_type": "code",
   "execution_count": 46,
   "metadata": {},
   "outputs": [
    {
     "data": {
      "text/plain": [
       "assemble_lookup_table (generic function with 1 method)"
      ]
     },
     "metadata": {},
     "output_type": "display_data"
    }
   ],
   "source": [
    "function assemble_lookup_table(g::DCJ_graph)\n",
    "    # NO DUPLICATES!\n",
    "    lookup = Dict{String, DCJ_edge}()\n",
    "    trail = g.root_edge\n",
    "    edges = Set{DCJ_edge}()\n",
    "    while trail !== nothing\n",
    "        get!(lookup, trail.label, trail)\n",
    "        push!(edges, trail)\n",
    "        head = trail.head_connection\n",
    "        tail = trail.tail_connection\n",
    "        if head in edges\n",
    "            trail = tail\n",
    "        else\n",
    "            trail = head\n",
    "        end\n",
    "        if trail in edges\n",
    "            break\n",
    "        end\n",
    "    end\n",
    "    return lookup\n",
    "end"
   ]
  },
  {
   "cell_type": "code",
   "execution_count": 54,
   "metadata": {},
   "outputs": [
    {
     "name": "stdout",
     "output_type": "stream",
     "text": [
      "Linear Graph\n",
      "abcdefghijklmnop\n",
      "Key: f, Value: DCJ_edge(\"f\", DCJ_edge(\"e\", DCJ_edge(\"d\", DCJ_edge(\"c\", DCJ_edge(\"b\", DCJ_edge(\"a\", nothing, DCJ_edge(#= circular reference @-2 =#)), DCJ_edge(#= circular reference @-2 =#)), DCJ_edge(#= circular reference @-2 =#)), DCJ_edge(#= circular reference @-2 =#)), DCJ_edge(#= circular reference @-2 =#)), DCJ_edge(\"g\", DCJ_edge(#= circular reference @-2 =#), DCJ_edge(\"h\", DCJ_edge(#= circular reference @-2 =#), DCJ_edge(\"i\", DCJ_edge(#= circular reference @-2 =#), DCJ_edge(\"j\", DCJ_edge(#= circular reference @-2 =#), DCJ_edge(\"k\", DCJ_edge(#= circular reference @-2 =#), DCJ_edge(\"l\", DCJ_edge(#= circular reference @-2 =#), DCJ_edge(\"m\", DCJ_edge(#= circular reference @-2 =#), DCJ_edge(\"n\", DCJ_edge(#= circular reference @-2 =#), DCJ_edge(\"o\", DCJ_edge(#= circular reference @-2 =#), DCJ_edge(\"p\", DCJ_edge(#= circular reference @-2 =#), nothing)))))))))))\n",
      "Key: c, Value: DCJ_edge(\"c\", DCJ_edge(\"b\", DCJ_edge(\"a\", nothing, DCJ_edge(#= circular reference @-2 =#)), DCJ_edge(#= circular reference @-2 =#)), DCJ_edge(\"d\", DCJ_edge(#= circular reference @-2 =#), DCJ_edge(\"e\", DCJ_edge(#= circular reference @-2 =#), DCJ_edge(\"f\", DCJ_edge(#= circular reference @-2 =#), DCJ_edge(\"g\", DCJ_edge(#= circular reference @-2 =#), DCJ_edge(\"h\", DCJ_edge(#= circular reference @-2 =#), DCJ_edge(\"i\", DCJ_edge(#= circular reference @-2 =#), DCJ_edge(\"j\", DCJ_edge(#= circular reference @-2 =#), DCJ_edge(\"k\", DCJ_edge(#= circular reference @-2 =#), DCJ_edge(\"l\", DCJ_edge(#= circular reference @-2 =#), DCJ_edge(\"m\", DCJ_edge(#= circular reference @-2 =#), DCJ_edge(\"n\", DCJ_edge(#= circular reference @-2 =#), DCJ_edge(\"o\", DCJ_edge(#= circular reference @-2 =#), DCJ_edge(\"p\", DCJ_edge(#= circular reference @-2 =#), nothing))))))))))))))\n",
      "Key: e, Value: DCJ_edge(\"e\", DCJ_edge(\"d\", DCJ_edge(\"c\", DCJ_edge(\"b\", DCJ_edge(\"a\", nothing, DCJ_edge(#= circular reference @-2 =#)), DCJ_edge(#= circular reference @-2 =#)), DCJ_edge(#= circular reference @-2 =#)), DCJ_edge(#= circular reference @-2 =#)), DCJ_edge(\"f\", DCJ_edge(#= circular reference @-2 =#), DCJ_edge(\"g\", DCJ_edge(#= circular reference @-2 =#), DCJ_edge(\"h\", DCJ_edge(#= circular reference @-2 =#), DCJ_edge(\"i\", DCJ_edge(#= circular reference @-2 =#), DCJ_edge(\"j\", DCJ_edge(#= circular reference @-2 =#), DCJ_edge(\"k\", DCJ_edge(#= circular reference @-2 =#), DCJ_edge(\"l\", DCJ_edge(#= circular reference @-2 =#), DCJ_edge(\"m\", DCJ_edge(#= circular reference @-2 =#), DCJ_edge(\"n\", DCJ_edge(#= circular reference @-2 =#), DCJ_edge(\"o\", DCJ_edge(#= circular reference @-2 =#), DCJ_edge(\"p\", DCJ_edge(#= circular reference @-2 =#), nothing))))))))))))\n",
      "Key: b, Value: DCJ_edge(\"b\", DCJ_edge(\"a\", nothing, DCJ_edge(#= circular reference @-2 =#)), DCJ_edge(\"c\", DCJ_edge(#= circular reference @-2 =#), DCJ_edge(\"d\", DCJ_edge(#= circular reference @-2 =#), DCJ_edge(\"e\", DCJ_edge(#= circular reference @-2 =#), DCJ_edge(\"f\", DCJ_edge(#= circular reference @-2 =#), DCJ_edge(\"g\", DCJ_edge(#= circular reference @-2 =#), DCJ_edge(\"h\", DCJ_edge(#= circular reference @-2 =#), DCJ_edge(\"i\", DCJ_edge(#= circular reference @-2 =#), DCJ_edge(\"j\", DCJ_edge(#= circular reference @-2 =#), DCJ_edge(\"k\", DCJ_edge(#= circular reference @-2 =#), DCJ_edge(\"l\", DCJ_edge(#= circular reference @-2 =#), DCJ_edge(\"m\", DCJ_edge(#= circular reference @-2 =#), DCJ_edge(\"n\", DCJ_edge(#= circular reference @-2 =#), DCJ_edge(\"o\", DCJ_edge(#= circular reference @-2 =#), DCJ_edge(\"p\", DCJ_edge(#= circular reference @-2 =#), nothing)))))))))))))))\n",
      "Key: a, Value: DCJ_edge(\"a\", nothing, DCJ_edge(\"b\", DCJ_edge(#= circular reference @-2 =#), DCJ_edge(\"c\", DCJ_edge(#= circular reference @-2 =#), DCJ_edge(\"d\", DCJ_edge(#= circular reference @-2 =#), DCJ_edge(\"e\", DCJ_edge(#= circular reference @-2 =#), DCJ_edge(\"f\", DCJ_edge(#= circular reference @-2 =#), DCJ_edge(\"g\", DCJ_edge(#= circular reference @-2 =#), DCJ_edge(\"h\", DCJ_edge(#= circular reference @-2 =#), DCJ_edge(\"i\", DCJ_edge(#= circular reference @-2 =#), DCJ_edge(\"j\", DCJ_edge(#= circular reference @-2 =#), DCJ_edge(\"k\", DCJ_edge(#= circular reference @-2 =#), DCJ_edge(\"l\", DCJ_edge(#= circular reference @-2 =#), DCJ_edge(\"m\", DCJ_edge(#= circular reference @-2 =#), DCJ_edge(\"n\", DCJ_edge(#= circular reference @-2 =#), DCJ_edge(\"o\", DCJ_edge(#= circular reference @-2 =#), DCJ_edge(\"p\", DCJ_edge(#= circular reference @-2 =#), nothing))))))))))))))))\n",
      "Key: h, Value: DCJ_edge(\"h\", DCJ_edge(\"g\", DCJ_edge(\"f\", DCJ_edge(\"e\", DCJ_edge(\"d\", DCJ_edge(\"c\", DCJ_edge(\"b\", DCJ_edge(\"a\", nothing, DCJ_edge(#= circular reference @-2 =#)), DCJ_edge(#= circular reference @-2 =#)), DCJ_edge(#= circular reference @-2 =#)), DCJ_edge(#= circular reference @-2 =#)), DCJ_edge(#= circular reference @-2 =#)), DCJ_edge(#= circular reference @-2 =#)), DCJ_edge(#= circular reference @-2 =#)), DCJ_edge(\"i\", DCJ_edge(#= circular reference @-2 =#), DCJ_edge(\"j\", DCJ_edge(#= circular reference @-2 =#), DCJ_edge(\"k\", DCJ_edge(#= circular reference @-2 =#), DCJ_edge(\"l\", DCJ_edge(#= circular reference @-2 =#), DCJ_edge(\"m\", DCJ_edge(#= circular reference @-2 =#), DCJ_edge(\"n\", DCJ_edge(#= circular reference @-2 =#), DCJ_edge(\"o\", DCJ_edge(#= circular reference @-2 =#), DCJ_edge(\"p\", DCJ_edge(#= circular reference @-2 =#), nothing)))))))))\n",
      "Key: i, Value: DCJ_edge(\"i\", DCJ_edge(\"h\", DCJ_edge(\"g\", DCJ_edge(\"f\", DCJ_edge(\"e\", DCJ_edge(\"d\", DCJ_edge(\"c\", DCJ_edge(\"b\", DCJ_edge(\"a\", nothing, DCJ_edge(#= circular reference @-2 =#)), DCJ_edge(#= circular reference @-2 =#)), DCJ_edge(#= circular reference @-2 =#)), DCJ_edge(#= circular reference @-2 =#)), DCJ_edge(#= circular reference @-2 =#)), DCJ_edge(#= circular reference @-2 =#)), DCJ_edge(#= circular reference @-2 =#)), DCJ_edge(#= circular reference @-2 =#)), DCJ_edge(\"j\", DCJ_edge(#= circular reference @-2 =#), DCJ_edge(\"k\", DCJ_edge(#= circular reference @-2 =#), DCJ_edge(\"l\", DCJ_edge(#= circular reference @-2 =#), DCJ_edge(\"m\", DCJ_edge(#= circular reference @-2 =#), DCJ_edge(\"n\", DCJ_edge(#= circular reference @-2 =#), DCJ_edge(\"o\", DCJ_edge(#= circular reference @-2 =#), DCJ_edge(\"p\", DCJ_edge(#= circular reference @-2 =#), nothing))))))))\n",
      "Key: d, Value: DCJ_edge(\"d\", DCJ_edge(\"c\", DCJ_edge(\"b\", DCJ_edge(\"a\", nothing, DCJ_edge(#= circular reference @-2 =#)), DCJ_edge(#= circular reference @-2 =#)), DCJ_edge(#= circular reference @-2 =#)), DCJ_edge(\"e\", DCJ_edge(#= circular reference @-2 =#), DCJ_edge(\"f\", DCJ_edge(#= circular reference @-2 =#), DCJ_edge(\"g\", DCJ_edge(#= circular reference @-2 =#), DCJ_edge(\"h\", DCJ_edge(#= circular reference @-2 =#), DCJ_edge(\"i\", DCJ_edge(#= circular reference @-2 =#), DCJ_edge(\"j\", DCJ_edge(#= circular reference @-2 =#), DCJ_edge(\"k\", DCJ_edge(#= circular reference @-2 =#), DCJ_edge(\"l\", DCJ_edge(#= circular reference @-2 =#), DCJ_edge(\"m\", DCJ_edge(#= circular reference @-2 =#), DCJ_edge(\"n\", DCJ_edge(#= circular reference @-2 =#), DCJ_edge(\"o\", DCJ_edge(#= circular reference @-2 =#), DCJ_edge(\"p\", DCJ_edge(#= circular reference @-2 =#), nothing)))))))))))))\n",
      "Key: g, Value: DCJ_edge(\"g\", DCJ_edge(\"f\", DCJ_edge(\"e\", DCJ_edge(\"d\", DCJ_edge(\"c\", DCJ_edge(\"b\", DCJ_edge(\"a\", nothing, DCJ_edge(#= circular reference @-2 =#)), DCJ_edge(#= circular reference @-2 =#)), DCJ_edge(#= circular reference @-2 =#)), DCJ_edge(#= circular reference @-2 =#)), DCJ_edge(#= circular reference @-2 =#)), DCJ_edge(#= circular reference @-2 =#)), DCJ_edge(\"h\", DCJ_edge(#= circular reference @-2 =#), DCJ_edge(\"i\", DCJ_edge(#= circular reference @-2 =#), DCJ_edge(\"j\", DCJ_edge(#= circular reference @-2 =#), DCJ_edge(\"k\", DCJ_edge(#= circular reference @-2 =#), DCJ_edge(\"l\", DCJ_edge(#= circular reference @-2 =#), DCJ_edge(\"m\", DCJ_edge(#= circular reference @-2 =#), DCJ_edge(\"n\", DCJ_edge(#= circular reference @-2 =#), DCJ_edge(\"o\", DCJ_edge(#= circular reference @-2 =#), DCJ_edge(\"p\", DCJ_edge(#= circular reference @-2 =#), nothing))))))))))\n",
      "Key: j, Value: DCJ_edge(\"j\", DCJ_edge(\"i\", DCJ_edge(\"h\", DCJ_edge(\"g\", DCJ_edge(\"f\", DCJ_edge(\"e\", DCJ_edge(\"d\", DCJ_edge(\"c\", DCJ_edge(\"b\", DCJ_edge(\"a\", nothing, DCJ_edge(#= circular reference @-2 =#)), DCJ_edge(#= circular reference @-2 =#)), DCJ_edge(#= circular reference @-2 =#)), DCJ_edge(#= circular reference @-2 =#)), DCJ_edge(#= circular reference @-2 =#)), DCJ_edge(#= circular reference @-2 =#)), DCJ_edge(#= circular reference @-2 =#)), DCJ_edge(#= circular reference @-2 =#)), DCJ_edge(#= circular reference @-2 =#)), DCJ_edge(\"k\", DCJ_edge(#= circular reference @-2 =#), DCJ_edge(\"l\", DCJ_edge(#= circular reference @-2 =#), DCJ_edge(\"m\", DCJ_edge(#= circular reference @-2 =#), DCJ_edge(\"n\", DCJ_edge(#= circular reference @-2 =#), DCJ_edge(\"o\", DCJ_edge(#= circular reference @-2 =#), DCJ_edge(\"p\", DCJ_edge(#= circular reference @-2 =#), nothing)))))))\n",
      "Key: k, Value: DCJ_edge(\"k\", DCJ_edge(\"j\", DCJ_edge(\"i\", DCJ_edge(\"h\", DCJ_edge(\"g\", DCJ_edge(\"f\", DCJ_edge(\"e\", DCJ_edge(\"d\", DCJ_edge(\"c\", DCJ_edge(\"b\", DCJ_edge(\"a\", nothing, DCJ_edge(#= circular reference @-2 =#)), DCJ_edge(#= circular reference @-2 =#)), DCJ_edge(#= circular reference @-2 =#)), DCJ_edge(#= circular reference @-2 =#)), DCJ_edge(#= circular reference @-2 =#)), DCJ_edge(#= circular reference @-2 =#)), DCJ_edge(#= circular reference @-2 =#)), DCJ_edge(#= circular reference @-2 =#)), DCJ_edge(#= circular reference @-2 =#)), DCJ_edge(#= circular reference @-2 =#)), DCJ_edge(\"l\", DCJ_edge(#= circular reference @-2 =#), DCJ_edge(\"m\", DCJ_edge(#= circular reference @-2 =#), DCJ_edge(\"n\", DCJ_edge(#= circular reference @-2 =#), DCJ_edge(\"o\", DCJ_edge(#= circular reference @-2 =#), DCJ_edge(\"p\", DCJ_edge(#= circular reference @-2 =#), nothing))))))\n",
      "Key: o, Value: DCJ_edge(\"o\", DCJ_edge(\"n\", DCJ_edge(\"m\", DCJ_edge(\"l\", DCJ_edge(\"k\", DCJ_edge(\"j\", DCJ_edge(\"i\", DCJ_edge(\"h\", DCJ_edge(\"g\", DCJ_edge(\"f\", DCJ_edge(\"e\", DCJ_edge(\"d\", DCJ_edge(\"c\", DCJ_edge(\"b\", DCJ_edge(\"a\", nothing, DCJ_edge(#= circular reference @-2 =#)), DCJ_edge(#= circular reference @-2 =#)), DCJ_edge(#= circular reference @-2 =#)), DCJ_edge(#= circular reference @-2 =#)), DCJ_edge(#= circular reference @-2 =#)), DCJ_edge(#= circular reference @-2 =#)), DCJ_edge(#= circular reference @-2 =#)), DCJ_edge(#= circular reference @-2 =#)), DCJ_edge(#= circular reference @-2 =#)), DCJ_edge(#= circular reference @-2 =#)), DCJ_edge(#= circular reference @-2 =#)), DCJ_edge(#= circular reference @-2 =#)), DCJ_edge(#= circular reference @-2 =#)), DCJ_edge(#= circular reference @-2 =#)), DCJ_edge(\"p\", DCJ_edge(#= circular reference @-2 =#), nothing))\n",
      "Key: l, Value: DCJ_edge(\"l\", DCJ_edge(\"k\", DCJ_edge(\"j\", DCJ_edge(\"i\", DCJ_edge(\"h\", DCJ_edge(\"g\", DCJ_edge(\"f\", DCJ_edge(\"e\", DCJ_edge(\"d\", DCJ_edge(\"c\", DCJ_edge(\"b\", DCJ_edge(\"a\", nothing, DCJ_edge(#= circular reference @-2 =#)), DCJ_edge(#= circular reference @-2 =#)), DCJ_edge(#= circular reference @-2 =#)), DCJ_edge(#= circular reference @-2 =#)), DCJ_edge(#= circular reference @-2 =#)), DCJ_edge(#= circular reference @-2 =#)), DCJ_edge(#= circular reference @-2 =#)), DCJ_edge(#= circular reference @-2 =#)), DCJ_edge(#= circular reference @-2 =#)), DCJ_edge(#= circular reference @-2 =#)), DCJ_edge(#= circular reference @-2 =#)), DCJ_edge(\"m\", DCJ_edge(#= circular reference @-2 =#), DCJ_edge(\"n\", DCJ_edge(#= circular reference @-2 =#), DCJ_edge(\"o\", DCJ_edge(#= circular reference @-2 =#), DCJ_edge(\"p\", DCJ_edge(#= circular reference @-2 =#), nothing)))))\n",
      "Key: m, Value: DCJ_edge(\"m\", DCJ_edge(\"l\", DCJ_edge(\"k\", DCJ_edge(\"j\", DCJ_edge(\"i\", DCJ_edge(\"h\", DCJ_edge(\"g\", DCJ_edge(\"f\", DCJ_edge(\"e\", DCJ_edge(\"d\", DCJ_edge(\"c\", DCJ_edge(\"b\", DCJ_edge(\"a\", nothing, DCJ_edge(#= circular reference @-2 =#)), DCJ_edge(#= circular reference @-2 =#)), DCJ_edge(#= circular reference @-2 =#)), DCJ_edge(#= circular reference @-2 =#)), DCJ_edge(#= circular reference @-2 =#)), DCJ_edge(#= circular reference @-2 =#)), DCJ_edge(#= circular reference @-2 =#)), DCJ_edge(#= circular reference @-2 =#)), DCJ_edge(#= circular reference @-2 =#)), DCJ_edge(#= circular reference @-2 =#)), DCJ_edge(#= circular reference @-2 =#)), DCJ_edge(#= circular reference @-2 =#)), DCJ_edge(\"n\", DCJ_edge(#= circular reference @-2 =#), DCJ_edge(\"o\", DCJ_edge(#= circular reference @-2 =#), DCJ_edge(\"p\", DCJ_edge(#= circular reference @-2 =#), nothing))))\n",
      "Key: p, Value: DCJ_edge(\"p\", DCJ_edge(\"o\", DCJ_edge(\"n\", DCJ_edge(\"m\", DCJ_edge(\"l\", DCJ_edge(\"k\", DCJ_edge(\"j\", DCJ_edge(\"i\", DCJ_edge(\"h\", DCJ_edge(\"g\", DCJ_edge(\"f\", DCJ_edge(\"e\", DCJ_edge(\"d\", DCJ_edge(\"c\", DCJ_edge(\"b\", DCJ_edge(\"a\", nothing, DCJ_edge(#= circular reference @-2 =#)), DCJ_edge(#= circular reference @-2 =#)), DCJ_edge(#= circular reference @-2 =#)), DCJ_edge(#= circular reference @-2 =#)), DCJ_edge(#= circular reference @-2 =#)), DCJ_edge(#= circular reference @-2 =#)), DCJ_edge(#= circular reference @-2 =#)), DCJ_edge(#= circular reference @-2 =#)), DCJ_edge(#= circular reference @-2 =#)), DCJ_edge(#= circular reference @-2 =#)), DCJ_edge(#= circular reference @-2 =#)), DCJ_edge(#= circular reference @-2 =#)), DCJ_edge(#= circular reference @-2 =#)), DCJ_edge(#= circular reference @-2 =#)), DCJ_edge(#= circular reference @-2 =#)), nothing)\n",
      "Key: n, Value: DCJ_edge(\"n\", DCJ_edge(\"m\", DCJ_edge(\"l\", DCJ_edge(\"k\", DCJ_edge(\"j\", DCJ_edge(\"i\", DCJ_edge(\"h\", DCJ_edge(\"g\", DCJ_edge(\"f\", DCJ_edge(\"e\", DCJ_edge(\"d\", DCJ_edge(\"c\", DCJ_edge(\"b\", DCJ_edge(\"a\", nothing, DCJ_edge(#= circular reference @-2 =#)), DCJ_edge(#= circular reference @-2 =#)), DCJ_edge(#= circular reference @-2 =#)), DCJ_edge(#= circular reference @-2 =#)), DCJ_edge(#= circular reference @-2 =#)), DCJ_edge(#= circular reference @-2 =#)), DCJ_edge(#= circular reference @-2 =#)), DCJ_edge(#= circular reference @-2 =#)), DCJ_edge(#= circular reference @-2 =#)), DCJ_edge(#= circular reference @-2 =#)), DCJ_edge(#= circular reference @-2 =#)), DCJ_edge(#= circular reference @-2 =#)), DCJ_edge(#= circular reference @-2 =#)), DCJ_edge(\"o\", DCJ_edge(#= circular reference @-2 =#), DCJ_edge(\"p\", DCJ_edge(#= circular reference @-2 =#), nothing)))\n",
      "DCJ_edge(\"f\", DCJ_edge(\"e\", DCJ_edge(\"d\", DCJ_edge(\"c\", DCJ_edge(\"b\", DCJ_edge(\"a\", nothing, DCJ_edge(#= circular reference @-2 =#)), DCJ_edge(#= circular reference @-2 =#)), DCJ_edge(#= circular reference @-2 =#)), DCJ_edge(#= circular reference @-2 =#)), DCJ_edge(#= circular reference @-2 =#)), DCJ_edge(\"g\", DCJ_edge(#= circular reference @-2 =#), DCJ_edge(\"h\", DCJ_edge(#= circular reference @-2 =#), DCJ_edge(\"i\", DCJ_edge(#= circular reference @-2 =#), DCJ_edge(\"j\", DCJ_edge(#= circular reference @-2 =#), DCJ_edge(\"k\", DCJ_edge(#= circular reference @-2 =#), DCJ_edge(\"l\", DCJ_edge(#= circular reference @-2 =#), DCJ_edge(\"m\", DCJ_edge(#= circular reference @-2 =#), DCJ_edge(\"n\", DCJ_edge(#= circular reference @-2 =#), DCJ_edge(\"o\", DCJ_edge(#= circular reference @-2 =#), DCJ_edge(\"p\", DCJ_edge(#= circular reference @-2 =#), nothing)))))))))))"
     ]
    }
   ],
   "source": [
    "# Lookup table test\n",
    "test = convert_string_to_graph(\"abcdefghijklmnop\", LINEAR_PATH)\n",
    "table = assemble_lookup_table(test)\n",
    "display_dcj_graph(test)\n",
    "println(\"\")\n",
    "for (key, value) in table\n",
    "    println(\"Key: $key, Value: $value\")\n",
    "end\n",
    "print(table[\"f\"])"
   ]
  },
  {
   "cell_type": "code",
   "execution_count": 21,
   "metadata": {},
   "outputs": [
    {
     "data": {
      "text/plain": [
       "3"
      ]
     },
     "metadata": {},
     "output_type": "display_data"
    }
   ],
   "source": [
    "SWAP_OPCODE = 1\n",
    "SPLIT_OPCODE = 2\n",
    "COMBINE_OPCODE = 3"
   ]
  },
  {
   "cell_type": "code",
   "execution_count": 22,
   "metadata": {},
   "outputs": [
    {
     "ename": "Base.Meta.ParseError",
     "evalue": "ParseError:\n# Error @ /Users/seawied/Master/redone_megan_project/structs.ipynb:4:5\n        swap_op(graph)\n    else if opcode == SPLIT_OPCODE\n#   └─────┘ ── use `elseif` instead of `else if`",
     "output_type": "error",
     "traceback": [
      "ParseError:\n",
      "# Error @ /Users/seawied/Master/redone_megan_project/structs.ipynb:4:5\n",
      "        swap_op(graph)\n",
      "    else if opcode == SPLIT_OPCODE\n",
      "#   └─────┘ ── use `elseif` instead of `else if`\n",
      "\n",
      "Stacktrace:\n",
      " [1] top-level scope\n",
      "   @ ~/Master/redone_megan_project/structs.ipynb:4"
     ]
    }
   ],
   "source": [
    "function apply_dcj_op(opcode::Int, graph::DCJ_graph)\n",
    "    if opcode == SWAP_OPCODE\n",
    "        swap_op(graph)\n",
    "    else if opcode == SPLIT_OPCODE\n",
    "        split_op(graph)\n",
    "    elseif opcode == COMBINE_OPCODE\n",
    "        combine_op(graph)\n",
    "    end\n",
    "end\n",
    "\n",
    "function swap_op(graph::DCJ_graph)\n",
    "end\n",
    "\n",
    "function split_op(graph::DCJ_graph)\n",
    "end\n",
    "\n",
    "function combine_op(graph::DCJ_graph)\n",
    "end"
   ]
  },
  {
   "cell_type": "code",
   "execution_count": 16,
   "metadata": {},
   "outputs": [],
   "source": []
  },
  {
   "cell_type": "code",
   "execution_count": null,
   "metadata": {},
   "outputs": [],
   "source": []
  }
 ],
 "metadata": {
  "kernelspec": {
   "display_name": "Julia 1.10.4",
   "language": "julia",
   "name": "julia-1.10"
  },
  "language_info": {
   "file_extension": ".jl",
   "mimetype": "application/julia",
   "name": "julia",
   "version": "1.10.4"
  }
 },
 "nbformat": 4,
 "nbformat_minor": 2
}
